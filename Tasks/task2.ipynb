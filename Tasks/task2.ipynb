{
 "cells": [
  {
   "cell_type": "code",
   "execution_count": 1,
   "metadata": {},
   "outputs": [],
   "source": [
    "import numpy as np\n",
    "import pandas as pd\n",
    "import unicodedata,re,math,random\n",
    "import matplotlib.pyplot as plt\n",
    "import nltk\n",
    "from nltk.corpus import stopwords\n",
    "from sklearn.model_selection import train_test_split\n",
    "\n",
    "import torch\n",
    "import torch.nn as nn\n",
    "from torch.utils.data import TensorDataset, DataLoader"
   ]
  },
  {
   "cell_type": "markdown",
   "metadata": {},
   "source": [
    "# 加载数据集"
   ]
  },
  {
   "cell_type": "code",
   "execution_count": 2,
   "metadata": {},
   "outputs": [],
   "source": [
    "train_df = pd.read_csv('train.tsv', sep = '\\t')"
   ]
  },
  {
   "cell_type": "markdown",
   "metadata": {},
   "source": [
    "## 显示数据集的信息"
   ]
  },
  {
   "cell_type": "code",
   "execution_count": 3,
   "metadata": {},
   "outputs": [
    {
     "name": "stdout",
     "output_type": "stream",
     "text": [
      "<class 'pandas.core.frame.DataFrame'>\n",
      "RangeIndex: 156060 entries, 0 to 156059\n",
      "Data columns (total 4 columns):\n",
      "PhraseId      156060 non-null int64\n",
      "SentenceId    156060 non-null int64\n",
      "Phrase        156060 non-null object\n",
      "Sentiment     156060 non-null int64\n",
      "dtypes: int64(3), object(1)\n",
      "memory usage: 4.8+ MB\n"
     ]
    }
   ],
   "source": [
    "train_df.info()"
   ]
  },
  {
   "cell_type": "markdown",
   "metadata": {},
   "source": [
    "## 对数据集作描述性分析"
   ]
  },
  {
   "cell_type": "code",
   "execution_count": 4,
   "metadata": {},
   "outputs": [
    {
     "data": {
      "text/html": [
       "<div>\n",
       "<style scoped>\n",
       "    .dataframe tbody tr th:only-of-type {\n",
       "        vertical-align: middle;\n",
       "    }\n",
       "\n",
       "    .dataframe tbody tr th {\n",
       "        vertical-align: top;\n",
       "    }\n",
       "\n",
       "    .dataframe thead th {\n",
       "        text-align: right;\n",
       "    }\n",
       "</style>\n",
       "<table border=\"1\" class=\"dataframe\">\n",
       "  <thead>\n",
       "    <tr style=\"text-align: right;\">\n",
       "      <th></th>\n",
       "      <th>PhraseId</th>\n",
       "      <th>SentenceId</th>\n",
       "      <th>Sentiment</th>\n",
       "    </tr>\n",
       "  </thead>\n",
       "  <tbody>\n",
       "    <tr>\n",
       "      <th>count</th>\n",
       "      <td>156060.000000</td>\n",
       "      <td>156060.000000</td>\n",
       "      <td>156060.000000</td>\n",
       "    </tr>\n",
       "    <tr>\n",
       "      <th>mean</th>\n",
       "      <td>78030.500000</td>\n",
       "      <td>4079.732744</td>\n",
       "      <td>2.063578</td>\n",
       "    </tr>\n",
       "    <tr>\n",
       "      <th>std</th>\n",
       "      <td>45050.785842</td>\n",
       "      <td>2502.764394</td>\n",
       "      <td>0.893832</td>\n",
       "    </tr>\n",
       "    <tr>\n",
       "      <th>min</th>\n",
       "      <td>1.000000</td>\n",
       "      <td>1.000000</td>\n",
       "      <td>0.000000</td>\n",
       "    </tr>\n",
       "    <tr>\n",
       "      <th>25%</th>\n",
       "      <td>39015.750000</td>\n",
       "      <td>1861.750000</td>\n",
       "      <td>2.000000</td>\n",
       "    </tr>\n",
       "    <tr>\n",
       "      <th>50%</th>\n",
       "      <td>78030.500000</td>\n",
       "      <td>4017.000000</td>\n",
       "      <td>2.000000</td>\n",
       "    </tr>\n",
       "    <tr>\n",
       "      <th>75%</th>\n",
       "      <td>117045.250000</td>\n",
       "      <td>6244.000000</td>\n",
       "      <td>3.000000</td>\n",
       "    </tr>\n",
       "    <tr>\n",
       "      <th>max</th>\n",
       "      <td>156060.000000</td>\n",
       "      <td>8544.000000</td>\n",
       "      <td>4.000000</td>\n",
       "    </tr>\n",
       "  </tbody>\n",
       "</table>\n",
       "</div>"
      ],
      "text/plain": [
       "            PhraseId     SentenceId      Sentiment\n",
       "count  156060.000000  156060.000000  156060.000000\n",
       "mean    78030.500000    4079.732744       2.063578\n",
       "std     45050.785842    2502.764394       0.893832\n",
       "min         1.000000       1.000000       0.000000\n",
       "25%     39015.750000    1861.750000       2.000000\n",
       "50%     78030.500000    4017.000000       2.000000\n",
       "75%    117045.250000    6244.000000       3.000000\n",
       "max    156060.000000    8544.000000       4.000000"
      ]
     },
     "execution_count": 4,
     "metadata": {},
     "output_type": "execute_result"
    }
   ],
   "source": [
    "train_df.describe()    "
   ]
  },
  {
   "cell_type": "markdown",
   "metadata": {},
   "source": [
    "# 查看评分的类别分布"
   ]
  },
  {
   "cell_type": "code",
   "execution_count": 5,
   "metadata": {},
   "outputs": [
    {
     "data": {
      "image/png": "[encoded data removed]",
      "text/plain": [
       "<Figure size 432x288 with 1 Axes>"
      ]
     },
     "metadata": {
      "needs_background": "light"
     },
     "output_type": "display_data"
    }
   ],
   "source": [
    "uniqueLabel=set(train_df['Sentiment'])\n",
    "x=[]\n",
    "y=[]\n",
    "for i in uniqueLabel:\n",
    "    x.append(i)\n",
    "    y.append(train_df['Sentiment'][train_df['Sentiment']==i].size)\n",
    "plt.figure(111)\n",
    "plt.bar(x,y)\n",
    "plt.xlabel('type of review  ')\n",
    "plt.ylabel('count')\n",
    "plt.title('Movie Review')\n",
    "plt.show()"
   ]
  },
  {
   "cell_type": "markdown",
   "metadata": {},
   "source": [
    "# 预处理"
   ]
  },
  {
   "cell_type": "code",
   "execution_count": 6,
   "metadata": {},
   "outputs": [],
   "source": [
    "# 第一步，定义对数据规范化的函数\n",
    "def remove_non_ascii(words):\n",
    "    new_words = []\n",
    "    for word in words:\n",
    "        new_word = unicodedata.normalize('NFKD', word).encode('ascii', 'ignore').decode('utf-8', 'ignore')\n",
    "        new_words.append(new_word)\n",
    "    return new_words\n",
    "\n",
    "#将数据集中的word全部小写\n",
    "def to_lowercase(words):\n",
    "    new_words = []\n",
    "    for word in words:\n",
    "        new_word = word.lower()\n",
    "        new_words.append(new_word)\n",
    "    return new_words\n",
    "\n",
    "#去除标点符号\n",
    "def remove_punctuation(words):\n",
    "    new_words = []\n",
    "    for word in words:\n",
    "        new_word = re.sub(r'[^\\w\\s]', '', word)\n",
    "        if new_word != '':\n",
    "            new_words.append(new_word)\n",
    "    return new_words\n",
    "\n",
    "#去除数据集中的数字\n",
    "def remove_numbers(words):\n",
    "    new_words = []\n",
    "    for word in words:\n",
    "        new_word = re.sub(\"\\d+\", \"\", word)\n",
    "        if new_word != '':\n",
    "            new_words.append(new_word)\n",
    "    return new_words\n",
    "\n",
    "#去除停用词\n",
    "def remove_stopwords(words):\n",
    "    new_words = []\n",
    "    for word in words:\n",
    "        if word not in stopwords.words('english') and len(word)>1:\n",
    "            new_words.append(word)\n",
    "    return new_words\n",
    "\n",
    "#整合上面的所有定义函数到该函数，来规范化数据\n",
    "def normalize(words):\n",
    "    words = remove_non_ascii(words)\n",
    "    words = to_lowercase(words)\n",
    "    words = remove_punctuation(words)\n",
    "    words = remove_numbers(words)\n",
    "    words = remove_stopwords(words)\n",
    "    return words"
   ]
  },
  {
   "cell_type": "markdown",
   "metadata": {},
   "source": [
    "## 切分Phrase"
   ]
  },
  {
   "cell_type": "code",
   "execution_count": 7,
   "metadata": {},
   "outputs": [
    {
     "data": {
      "text/plain": [
       "0    [A, series, of, escapades, demonstrating, the,...\n",
       "1    [A, series, of, escapades, demonstrating, the,...\n",
       "2                                          [A, series]\n",
       "3                                                  [A]\n",
       "4                                             [series]\n",
       "Name: Words, dtype: object"
      ]
     },
     "execution_count": 7,
     "metadata": {},
     "output_type": "execute_result"
    }
   ],
   "source": [
    "#第二步，tokenize Phrase\n",
    "train_df['Words'] = train_df['Phrase'].apply(nltk.word_tokenize)\n",
    "train_df['Words'].head()"
   ]
  },
  {
   "cell_type": "code",
   "execution_count": 8,
   "metadata": {},
   "outputs": [
    {
     "data": {
      "text/plain": [
       "0    [series, escapades, demonstrating, adage, good...\n",
       "1    [series, escapades, demonstrating, adage, good...\n",
       "2                                             [series]\n",
       "3                                                   []\n",
       "4                                             [series]\n",
       "Name: Words, dtype: object"
      ]
     },
     "execution_count": 8,
     "metadata": {},
     "output_type": "execute_result"
    }
   ],
   "source": [
    "# 第三步 - 应用之前定义的函数\n",
    "train_df['Words'] = train_df['Words'].apply(normalize) \n",
    "train_df['Words'].head()"
   ]
  },
  {
   "cell_type": "code",
   "execution_count": 9,
   "metadata": {},
   "outputs": [
    {
     "name": "stdout",
     "output_type": "stream",
     "text": [
      "16060\n",
      "16060\n"
     ]
    }
   ],
   "source": [
    "# 第三步 - 创建要用作编码字典的唯一单词列表\n",
    "word_set = set()\n",
    "for l in train_df['Words']:\n",
    "    for word in l:\n",
    "        word_set.add(word)\n",
    "        \n",
    "word_to_int = {word: i for i, word in enumerate(word_set, 1)}\n",
    "\n",
    "# 检查两者长度是否一致\n",
    "print(len(word_set))\n",
    "print(len(word_to_int))"
   ]
  },
  {
   "cell_type": "code",
   "execution_count": 10,
   "metadata": {},
   "outputs": [
    {
     "data": {
      "text/plain": [
       "0    [3600, 14627, 14006, 3553, 2215, 14682, 9712, ...\n",
       "1              [3600, 14627, 14006, 3553, 2215, 14682]\n",
       "2                                               [3600]\n",
       "3                                                   []\n",
       "4                                               [3600]\n",
       "Name: Tokens, dtype: object"
      ]
     },
     "execution_count": 10,
     "metadata": {},
     "output_type": "execute_result"
    }
   ],
   "source": [
    "# 根据word_to_int去标记每个word\n",
    "train_df['Tokens'] = train_df['Words'].apply(lambda l: [word_to_int[word] for word in l])\n",
    "train_df['Tokens'].head()"
   ]
  },
  {
   "cell_type": "code",
   "execution_count": 11,
   "metadata": {},
   "outputs": [
    {
     "name": "stdout",
     "output_type": "stream",
     "text": [
      "30\n"
     ]
    }
   ],
   "source": [
    "# 第四步，获取句子的最长长度\n",
    "max_len = train_df['Tokens'].str.len().max()\n",
    "print(max_len)"
   ]
  },
  {
   "cell_type": "code",
   "execution_count": 12,
   "metadata": {},
   "outputs": [
    {
     "name": "stdout",
     "output_type": "stream",
     "text": [
      "[[ 3600 14627 14006  3553  2215 14682  9712  2215 10302  7493 14584  5219\n",
      "   9128   945 10762     0     0     0     0     0     0     0     0     0\n",
      "      0     0     0     0     0     0]\n",
      " [ 3600 14627 14006  3553  2215 14682     0     0     0     0     0     0\n",
      "      0     0     0     0     0     0     0     0     0     0     0     0\n",
      "      0     0     0     0     0     0]\n",
      " [ 3600     0     0     0     0     0     0     0     0     0     0     0\n",
      "      0     0     0     0     0     0     0     0     0     0     0     0\n",
      "      0     0     0     0     0     0]]\n"
     ]
    }
   ],
   "source": [
    "all_tokens = np.array([t for t in train_df['Tokens']])\n",
    "encoded_labels = np.array([l for l in train_df['Sentiment']])\n",
    "\n",
    "# 创建数据集长度×最长句子长度的零矩阵\n",
    "features = np.zeros((len(all_tokens), max_len), dtype=int)\n",
    "# 对于每个句子，用0补齐维度到max_len\n",
    "for i, row in enumerate(all_tokens):\n",
    "    features[i, :len(row)] = row\n",
    "\n",
    "#打印出特征矩阵的前三行 \n",
    "print(features[:3])"
   ]
  },
  {
   "cell_type": "markdown",
   "metadata": {},
   "source": [
    "### 切分data 为训练集、验证集和测试集"
   ]
  },
  {
   "cell_type": "code",
   "execution_count": 13,
   "metadata": {},
   "outputs": [
    {
     "name": "stdout",
     "output_type": "stream",
     "text": [
      "\t\t\tFeature Shapes:\n",
      "Train set: \t\t(124848, 30) \n",
      "Validation set: \t(15606, 30) \n",
      "Test set: \t\t(15606, 30)\n"
     ]
    }
   ],
   "source": [
    "train_x,remaing_x,train_y,remaing_y = train_test_split(features,encoded_labels,test_size=0.2,random_state=3)\n",
    "val_x,test_x,val_y,test_y = train_test_split(remaing_x, remaing_y,test_size=0.5)\n",
    "print(\"\\t\\t\\tFeature Shapes:\")\n",
    "print(\"Train set: \\t\\t{}\".format(train_x.shape), \n",
    "      \"\\nValidation set: \\t{}\".format(val_x.shape),\n",
    "     \"\\nTest set: \\t\\t{}\".format(test_x.shape))"
   ]
  },
  {
   "cell_type": "markdown",
   "metadata": {},
   "source": [
    "## DataLoaders和批处理"
   ]
  },
  {
   "cell_type": "markdown",
   "metadata": {},
   "source": [
    "1）创建一种用于访问数据的已知格式，使用TensorDataset接收输入数据集和具有相同第一维的目标数据集，并创建数据集。\n",
    "\n",
    "2）创建DataLoaders并批量训练，验证Tensor数据集。"
   ]
  },
  {
   "cell_type": "code",
   "execution_count": 14,
   "metadata": {},
   "outputs": [
    {
     "name": "stdout",
     "output_type": "stream",
     "text": [
      "2312\n",
      "289\n",
      "289\n"
     ]
    }
   ],
   "source": [
    "# 创建Tensor数据集\n",
    "train_data = TensorDataset(torch.from_numpy(train_x), torch.from_numpy(train_y))\n",
    "valid_data = TensorDataset(torch.from_numpy(val_x), torch.from_numpy(val_y))\n",
    "test_data = TensorDataset(torch.from_numpy(test_x), torch.from_numpy(test_y))\n",
    "\n",
    "# 数据载入\n",
    "batch_size = 54\n",
    "\n",
    "# 确保shuffle你的数据集\n",
    "train_loader = DataLoader(train_data, shuffle=True, batch_size=batch_size)\n",
    "valid_loader = DataLoader(valid_data, shuffle=True, batch_size=batch_size)\n",
    "test_loader = DataLoader(test_data, shuffle=True, batch_size=batch_size)\n",
    "\n",
    "# 检查载入数据集的大小(有多少个batches)\n",
    "print(len(train_loader))\n",
    "print(len(valid_loader))\n",
    "print(len(test_loader))"
   ]
  },
  {
   "cell_type": "markdown",
   "metadata": {},
   "source": [
    "## 创建深层网络"
   ]
  },
  {
   "cell_type": "markdown",
   "metadata": {},
   "source": [
    "1）首先，我们将文字传递给嵌入层。我们需要一个嵌入层，因为我们有数千个单词，因此我们需要比单热编码向量更有效的输入数据表示。在这种情况下，嵌入层用于降低维数，而不是用于学习语义表示。\n",
    "\n",
    "2）输入字传递到嵌入层后，新的嵌入将传递给LSTM单元。 LSTM单元将添加到网络的循环连接，并使我们能够包含有关电影评论数据中单词序列的信息。 LSTM接收input_size，hidden_​​dim，多个层，丢失概率（用于多个层之间的丢失）和batch_first参数。\n",
    "\n",
    "3）最后，LSTM输出将进入线性层进行最终分类，其输出将被传递到交叉熵损失函数以获得每个预测类的概率。"
   ]
  },
  {
   "cell_type": "markdown",
   "metadata": {},
   "source": [
    "层次如下：\n",
    "\n",
    "嵌入层，用于将单词标记（整数）转换为特定大小的嵌入。\n",
    "\n",
    "由hidden_state大小和层数定义的LSTM层\n",
    "\n",
    "一个完全连接的输出层，用于将LSTM层输出映射到所需的output_size\n",
    "\n",
    "稍后将通过Crossentropy损失函数应用softmax，其将所有输出转换为概率\n",
    "\n",
    "大多数情况下，网络将具有更多层的更好性能; 2-3之间。 添加更多层允许网络学习真正复杂的关系。"
   ]
  },
  {
   "cell_type": "code",
   "execution_count": 15,
   "metadata": {},
   "outputs": [
    {
     "name": "stdout",
     "output_type": "stream",
     "text": [
      "Training on GPU.\n"
     ]
    }
   ],
   "source": [
    "# 首先检查GPU是否可用\n",
    "train_on_gpu=torch.cuda.is_available()\n",
    "\n",
    "if(train_on_gpu):\n",
    "    print('Training on GPU.')\n",
    "else:\n",
    "    print('No GPU available, training on CPU.')"
   ]
  },
  {
   "cell_type": "code",
   "execution_count": 16,
   "metadata": {},
   "outputs": [],
   "source": [
    "class SentimentRNN(nn.Module):\n",
    "    \"\"\"\n",
    "    The RNN model that will be used to perform Sentiment analysis.\n",
    "    \"\"\"\n",
    "\n",
    "    def __init__(self, vocab_size, output_size, embedding_dim, hidden_dim, n_layers, drop_prob=0.5):\n",
    "        \"\"\"\n",
    "        Initialize the model by setting up the layers.\n",
    "        \"\"\"\n",
    "        super(SentimentRNN, self).__init__()\n",
    "\n",
    "        self.output_size = output_size\n",
    "        self.n_layers = n_layers\n",
    "        self.hidden_dim = hidden_dim\n",
    "        \n",
    "        # embedding and LSTM 层\n",
    "        self.embedding = nn.Embedding(vocab_size, embedding_dim)\n",
    "        self.lstm = nn.LSTM(embedding_dim, hidden_dim, n_layers, \n",
    "                            dropout=drop_prob, batch_first=True)\n",
    "        # dropout层\n",
    "        self.dropout = nn.Dropout(0.3)\n",
    "        \n",
    "        # linear层\n",
    "        self.fc = nn.Linear(hidden_dim, output_size)\n",
    "        \n",
    "    def forward(self, x, hidden):\n",
    "        \"\"\"\n",
    "        Perform a forward pass of our model on some input and hidden state.\n",
    "        \"\"\"\n",
    "        batch_size = x.size(0)\n",
    "\n",
    "        # embeddings and lstm_out\n",
    "        embeds = self.embedding(x)\n",
    "\n",
    "        lstm_out, hidden = self.lstm(embeds, hidden)\n",
    "\n",
    "        # 将lstm输出转换为线性层的输入大小\n",
    "        lstm_out = lstm_out.transpose(0,1)\n",
    "        lstm_out = lstm_out[-1]\n",
    "\n",
    "        out = self.dropout(lstm_out)\n",
    "        out = self.fc(out)        \n",
    "\n",
    "        return out, hidden\n",
    "    \n",
    "    def init_hidden(self, batch_size):\n",
    "        ''' Initializes hidden state '''\n",
    "        # 创建两个大小为n_layers  x  batch_size  x  hidden_dim的新张量\n",
    "        # 对于LSTM的隐藏状态和单元状态，初始化为零\n",
    "        weight = next(self.parameters()).data\n",
    "        \n",
    "        if (train_on_gpu):\n",
    "            hidden = (weight.new(self.n_layers, batch_size, self.hidden_dim).zero_().cuda(),\n",
    "                  weight.new(self.n_layers, batch_size, self.hidden_dim).zero_().cuda())\n",
    "        else:\n",
    "            hidden = (weight.new(self.n_layers, batch_size, self.hidden_dim).zero_(),\n",
    "                                  weight.new(self.n_layers, batch_size, self.hidden_dim).zero_())\n",
    "        \n",
    "        return hidden"
   ]
  },
  {
   "cell_type": "markdown",
   "metadata": {},
   "source": [
    "##  Instantiate the network"
   ]
  },
  {
   "cell_type": "markdown",
   "metadata": {},
   "source": [
    "在这里，我们将实例化网络。 首先，定义超参数。\n",
    "\n",
    "vocab_size：我们词汇表的大小或我们输入的单词标记的值范围。\n",
    "\n",
    "output_size：我们所需输出的大小; 我们想要输出的得分（0..4）。\n",
    "\n",
    "embedding_dim：嵌入查找表中的列数; 嵌入的大小。\n",
    "\n",
    "hidden_dim：LSTM单元隐藏层中的单元数。 通常更大是更好的性能。 常用值为128,256,512等。\n",
    "\n",
    "n_layers：网络中LSTM层的数量。 通常在1-3之间"
   ]
  },
  {
   "cell_type": "code",
   "execution_count": 17,
   "metadata": {},
   "outputs": [
    {
     "name": "stdout",
     "output_type": "stream",
     "text": [
      "SentimentRNN(\n",
      "  (embedding): Embedding(16061, 400)\n",
      "  (lstm): LSTM(400, 256, num_layers=2, batch_first=True, dropout=0.5)\n",
      "  (dropout): Dropout(p=0.3)\n",
      "  (fc): Linear(in_features=256, out_features=5, bias=True)\n",
      ")\n"
     ]
    }
   ],
   "source": [
    "# 实例化模型（超参）\n",
    "vocab_size = len(word_to_int)+1 # +1 for the 0 padding\n",
    "output_size = 5\n",
    "embedding_dim = 400\n",
    "hidden_dim = 256\n",
    "n_layers = 2\n",
    "\n",
    "net = SentimentRNN(vocab_size, output_size, embedding_dim, hidden_dim, n_layers)\n",
    "\n",
    "print(net)"
   ]
  },
  {
   "cell_type": "markdown",
   "metadata": {},
   "source": [
    "### 训练惯例"
   ]
  },
  {
   "cell_type": "markdown",
   "metadata": {},
   "source": [
    "以下是典型的训练代码。 将使用Crossentropy损失，因为这是多类别分类问题。 我们还有一些数据和培训参数：\n",
    "\n",
    "lr：我们的优化器的学习率。\n",
    "\n",
    "epochs：迭代训练数据集的次数。\n",
    "\n",
    "clip：要剪切的最大渐变值（以防止爆炸渐变）。"
   ]
  },
  {
   "cell_type": "code",
   "execution_count": 18,
   "metadata": {},
   "outputs": [],
   "source": [
    "# 损失和优化函数\n",
    "lr=0.003\n",
    "\n",
    "criterion = nn.CrossEntropyLoss()\n",
    "optimizer = torch.optim.Adam(net.parameters(), lr=lr)"
   ]
  },
  {
   "cell_type": "code",
   "execution_count": 19,
   "metadata": {},
   "outputs": [
    {
     "name": "stdout",
     "output_type": "stream",
     "text": [
      "Epoch: 1/3... Step: 100... Loss: 1.165778... Val Loss: 1.296873\n",
      "Epoch: 1/3... Step: 200... Loss: 1.446933... Val Loss: 1.293438\n",
      "Epoch: 1/3... Step: 300... Loss: 1.182896... Val Loss: 1.287417\n",
      "Epoch: 1/3... Step: 400... Loss: 1.184239... Val Loss: 1.288608\n",
      "Epoch: 1/3... Step: 500... Loss: 1.295944... Val Loss: 1.290675\n",
      "Epoch: 1/3... Step: 600... Loss: 1.355662... Val Loss: 1.288833\n",
      "Epoch: 1/3... Step: 700... Loss: 1.175606... Val Loss: 1.290583\n",
      "Epoch: 1/3... Step: 800... Loss: 1.250186... Val Loss: 1.288467\n",
      "Epoch: 1/3... Step: 900... Loss: 1.259532... Val Loss: 1.286385\n",
      "Epoch: 1/3... Step: 1000... Loss: 1.210624... Val Loss: 1.286427\n",
      "Epoch: 1/3... Step: 1100... Loss: 1.125279... Val Loss: 1.284166\n",
      "Epoch: 1/3... Step: 1200... Loss: 1.332783... Val Loss: 1.284108\n",
      "Epoch: 1/3... Step: 1300... Loss: 1.115238... Val Loss: 1.268831\n",
      "Epoch: 1/3... Step: 1400... Loss: 1.126952... Val Loss: 1.226120\n",
      "Epoch: 1/3... Step: 1500... Loss: 1.208673... Val Loss: 1.224395\n",
      "Epoch: 1/3... Step: 1600... Loss: 1.263023... Val Loss: 1.201176\n",
      "Epoch: 1/3... Step: 1700... Loss: 1.368143... Val Loss: 1.206613\n",
      "Epoch: 1/3... Step: 1800... Loss: 1.163541... Val Loss: 1.179148\n",
      "Epoch: 1/3... Step: 1900... Loss: 1.082158... Val Loss: 1.177383\n",
      "Epoch: 1/3... Step: 2000... Loss: 1.138102... Val Loss: 1.180724\n",
      "Epoch: 1/3... Step: 2100... Loss: 1.038769... Val Loss: 1.155815\n",
      "Epoch: 1/3... Step: 2200... Loss: 1.466211... Val Loss: 1.152329\n",
      "Epoch: 1/3... Step: 2300... Loss: 1.140004... Val Loss: 1.136978\n",
      "Epoch: 2/3... Step: 2400... Loss: 1.241623... Val Loss: 1.130505\n",
      "Epoch: 2/3... Step: 2500... Loss: 1.139185... Val Loss: 1.115098\n",
      "Epoch: 2/3... Step: 2600... Loss: 0.841851... Val Loss: 1.097197\n",
      "Epoch: 2/3... Step: 2700... Loss: 1.150474... Val Loss: 1.096843\n",
      "Epoch: 2/3... Step: 2800... Loss: 1.053419... Val Loss: 1.095969\n",
      "Epoch: 2/3... Step: 2900... Loss: 1.058036... Val Loss: 1.071108\n",
      "Epoch: 2/3... Step: 3000... Loss: 1.060135... Val Loss: 1.069192\n",
      "Epoch: 2/3... Step: 3100... Loss: 1.033728... Val Loss: 1.057305\n",
      "Epoch: 2/3... Step: 3200... Loss: 0.815400... Val Loss: 1.051553\n",
      "Epoch: 2/3... Step: 3300... Loss: 0.966967... Val Loss: 1.028571\n",
      "Epoch: 2/3... Step: 3400... Loss: 1.003269... Val Loss: 1.020095\n",
      "Epoch: 2/3... Step: 3500... Loss: 0.989915... Val Loss: 1.020332\n",
      "Epoch: 2/3... Step: 3600... Loss: 0.967475... Val Loss: 1.012263\n",
      "Epoch: 2/3... Step: 3700... Loss: 1.024265... Val Loss: 0.996548\n",
      "Epoch: 2/3... Step: 3800... Loss: 0.839722... Val Loss: 0.996925\n",
      "Epoch: 2/3... Step: 3900... Loss: 1.133408... Val Loss: 0.980756\n",
      "Epoch: 2/3... Step: 4000... Loss: 0.993645... Val Loss: 0.976443\n",
      "Epoch: 2/3... Step: 4100... Loss: 0.882754... Val Loss: 0.970499\n",
      "Epoch: 2/3... Step: 4200... Loss: 1.077936... Val Loss: 0.969271\n",
      "Epoch: 2/3... Step: 4300... Loss: 1.015919... Val Loss: 0.972355\n",
      "Epoch: 2/3... Step: 4400... Loss: 0.921549... Val Loss: 0.956910\n",
      "Epoch: 2/3... Step: 4500... Loss: 1.068740... Val Loss: 0.956531\n",
      "Epoch: 2/3... Step: 4600... Loss: 0.929217... Val Loss: 0.949860\n",
      "Epoch: 3/3... Step: 4700... Loss: 0.854554... Val Loss: 0.951159\n",
      "Epoch: 3/3... Step: 4800... Loss: 0.842633... Val Loss: 0.943952\n",
      "Epoch: 3/3... Step: 4900... Loss: 0.871388... Val Loss: 0.962082\n",
      "Epoch: 3/3... Step: 5000... Loss: 0.891677... Val Loss: 0.936935\n",
      "Epoch: 3/3... Step: 5100... Loss: 0.851077... Val Loss: 0.947449\n",
      "Epoch: 3/3... Step: 5200... Loss: 0.743792... Val Loss: 0.947672\n",
      "Epoch: 3/3... Step: 5300... Loss: 0.893295... Val Loss: 0.937801\n",
      "Epoch: 3/3... Step: 5400... Loss: 0.975824... Val Loss: 0.936301\n",
      "Epoch: 3/3... Step: 5500... Loss: 0.735075... Val Loss: 0.927449\n",
      "Epoch: 3/3... Step: 5600... Loss: 0.960689... Val Loss: 0.921855\n",
      "Epoch: 3/3... Step: 5700... Loss: 1.098999... Val Loss: 0.921736\n",
      "Epoch: 3/3... Step: 5800... Loss: 0.892254... Val Loss: 0.940979\n",
      "Epoch: 3/3... Step: 5900... Loss: 0.917806... Val Loss: 0.914895\n",
      "Epoch: 3/3... Step: 6000... Loss: 0.837873... Val Loss: 0.925003\n",
      "Epoch: 3/3... Step: 6100... Loss: 0.712779... Val Loss: 0.912717\n",
      "Epoch: 3/3... Step: 6200... Loss: 0.922459... Val Loss: 0.901315\n",
      "Epoch: 3/3... Step: 6300... Loss: 1.046551... Val Loss: 0.920218\n",
      "Epoch: 3/3... Step: 6400... Loss: 0.766216... Val Loss: 0.907879\n",
      "Epoch: 3/3... Step: 6500... Loss: 0.886915... Val Loss: 0.900128\n",
      "Epoch: 3/3... Step: 6600... Loss: 0.783118... Val Loss: 0.894575\n",
      "Epoch: 3/3... Step: 6700... Loss: 0.970744... Val Loss: 0.908935\n",
      "Epoch: 3/3... Step: 6800... Loss: 0.979367... Val Loss: 0.892557\n",
      "Epoch: 3/3... Step: 6900... Loss: 0.735619... Val Loss: 0.892962\n"
     ]
    }
   ],
   "source": [
    "# 训练参数\n",
    "epochs = 3 # 3-4 是经观察所得训练集损失停止减少的地方\n",
    "\n",
    "counter = 0\n",
    "print_every = 100\n",
    "clip=5 #梯度裁剪\n",
    "\n",
    "# 如果GPU可获得的话，把模型放到GPU上运行\n",
    "if(train_on_gpu):\n",
    "    net.cuda()\n",
    "\n",
    "net.train()\n",
    "# 训练一些epochs\n",
    "for e in range(epochs):\n",
    "    # 初始化隐藏状态\n",
    "    h = net.init_hidden(batch_size)\n",
    "    # batch loop\n",
    "    for inputs, labels in train_loader:\n",
    "        counter += 1\n",
    "\n",
    "        if(train_on_gpu):\n",
    "            inputs, labels = inputs.cuda(), labels.cuda()\n",
    "\n",
    "        # 为隐藏状态创建新变量，否则\n",
    "        # 我们通过整个训练历史过程进行反向传播\n",
    "        h = tuple([each.data for each in h])\n",
    "\n",
    "        # 优化之前，先将梯度归0\n",
    "        net.zero_grad()\n",
    "\n",
    "        # 从模型中得到输出结果\n",
    "        output, h = net(inputs, h)\n",
    "        # 计算损失和执行反向传播\n",
    "        loss = criterion(output, labels)\n",
    "        loss.backward()\n",
    "        # `clip_grad_norm`有助于防止RNN / LSTM中的爆炸梯度问题。\n",
    "        nn.utils.clip_grad_norm_(net.parameters(), clip)\n",
    "        optimizer.step()\n",
    "\n",
    "        # 损失数据\n",
    "        if counter % print_every == 0:\n",
    "            # 得到验证集损失\n",
    "            val_h = net.init_hidden(batch_size)\n",
    "            val_losses = []\n",
    "            net.eval()\n",
    "            for inputs, labels in valid_loader:\n",
    "\n",
    "                # Creating new variables for the hidden state, otherwise\n",
    "                # we'd backprop through the entire training history\n",
    "                val_h = tuple([each.data for each in val_h])\n",
    "\n",
    "                if(train_on_gpu):\n",
    "                    inputs, labels = inputs.cuda(), labels.cuda()\n",
    "\n",
    "                output, val_h = net(inputs, val_h)\n",
    "                val_loss = criterion(output, labels)\n",
    "\n",
    "                val_losses.append(val_loss.item())\n",
    "            net.train()\n",
    "            print(\"Epoch: {}/{}...\".format(e+1, epochs),\n",
    "                  \"Step: {}...\".format(counter),\n",
    "                  \"Loss: {:.6f}...\".format(loss.item()),\n",
    "                  \"Val Loss: {:.6f}\".format(np.mean(val_losses)))"
   ]
  },
  {
   "cell_type": "markdown",
   "metadata": {},
   "source": [
    "## 测试"
   ]
  },
  {
   "cell_type": "markdown",
   "metadata": {},
   "source": [
    "有几种方法可以测试神经网络能力：\n",
    "\n",
    "测试数据性能：首先，我们将看到我们训练的模型如何在我们上面定义的所有test_data上执行。 我们将计算测试数据的平均损失和准确度。\n",
    "\n",
    "对用户生成数据的推断：其次，我们将看看我们是否可以一次只输入一个示例评论（没有标签），并查看训练模型预测的内容。 查看这样的新用户输入数据并预测输出标签称为推理。\n",
    "但是，对于该示例的实际目的，第二选项不适用，因为任务是对所提供短语的同步收集进行分类。"
   ]
  },
  {
   "cell_type": "code",
   "execution_count": 20,
   "metadata": {},
   "outputs": [
    {
     "name": "stdout",
     "output_type": "stream",
     "text": [
      "Test loss: 0.907\n",
      "Test accuracy: 0.630\n"
     ]
    }
   ],
   "source": [
    "# 获取测试集的损失和准确率\n",
    "\n",
    "test_losses = [] # track loss\n",
    "num_correct = 0\n",
    "\n",
    "# init hidden state\n",
    "h = net.init_hidden(batch_size)\n",
    "\n",
    "net.eval()\n",
    "#在test data迭代\n",
    "for inputs, labels in test_loader:\n",
    "\n",
    "    # Creating new variables for the hidden state, otherwise\n",
    "    # we'd backprop through the entire training history\n",
    "    h = tuple([each.data for each in h])\n",
    "\n",
    "    if(train_on_gpu):\n",
    "        inputs, labels = inputs.cuda(), labels.cuda()\n",
    "    \n",
    "    # 得到预测的结果\n",
    "    output, h = net(inputs, h)\n",
    "    # 计算损失\n",
    "    test_loss = criterion(output, labels)\n",
    "    test_losses.append(test_loss.item())\n",
    "    \n",
    "    # 将输出概率转换为预测类\n",
    "    _, pred = torch.max(output,1)\n",
    "    \n",
    "    # 将预测值和真实label比较\n",
    "    correct_tensor = pred.eq(labels.view_as(pred))\n",
    "    correct = np.squeeze(correct_tensor.numpy()) if not train_on_gpu else np.squeeze(correct_tensor.cpu().numpy())\n",
    "    num_correct += np.sum(correct)\n",
    "\n",
    "# -- stats! -- ##\n",
    "#平均的测试损失\n",
    "print(\"Test loss: {:.3f}\".format(np.mean(test_losses)))\n",
    "\n",
    "# 整个测试集的准确率\n",
    "test_acc = num_correct/len(test_loader.dataset)\n",
    "print(\"Test accuracy: {:.3f}\".format(test_acc))"
   ]
  },
  {
   "cell_type": "code",
   "execution_count": null,
   "metadata": {},
   "outputs": [],
   "source": []
  }
 ],
 "metadata": {
  "kernelspec": {
   "display_name": "Python 3",
   "language": "python",
   "name": "python3"
  },
  "language_info": {
   "codemirror_mode": {
    "name": "ipython",
    "version": 3
   },
   "file_extension": ".py",
   "mimetype": "text/x-python",
   "name": "python",
   "nbconvert_exporter": "python",
   "pygments_lexer": "ipython3",
   "version": "3.6.5"
  }
 },
 "nbformat": 4,
 "nbformat_minor": 2
}
